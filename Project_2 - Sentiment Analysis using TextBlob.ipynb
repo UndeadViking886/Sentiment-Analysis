{
 "cells": [
  {
   "cell_type": "code",
   "execution_count": 1,
   "metadata": {},
   "outputs": [],
   "source": [
    "import nltk;\n",
    "# importing the NLP(Natural Language Processing) library\n",
    "from textblob import TextBlob "
   ]
  },
  {
   "cell_type": "markdown",
   "metadata": {},
   "source": [
    "# Checking the sentiment of a simple text"
   ]
  },
  {
   "cell_type": "code",
   "execution_count": 2,
   "metadata": {},
   "outputs": [],
   "source": [
    "sentiment_1 = TextBlob(\"I hate Cars\")"
   ]
  },
  {
   "cell_type": "code",
   "execution_count": 3,
   "metadata": {},
   "outputs": [
    {
     "name": "stdout",
     "output_type": "stream",
     "text": [
      "Sentiment(polarity=-0.8, subjectivity=0.9)\n"
     ]
    }
   ],
   "source": [
    "print(format(sentiment_1.sentiment))"
   ]
  },
  {
   "cell_type": "code",
   "execution_count": 4,
   "metadata": {},
   "outputs": [
    {
     "name": "stdout",
     "output_type": "stream",
     "text": [
      "Sentiment(polarity=0.0, subjectivity=0.0)\n"
     ]
    }
   ],
   "source": [
    "sentiment_2 = TextBlob(\"I am travelling\")\n",
    "print(format(sentiment_2.sentiment))"
   ]
  },
  {
   "cell_type": "code",
   "execution_count": 5,
   "metadata": {},
   "outputs": [
    {
     "name": "stdout",
     "output_type": "stream",
     "text": [
      "Sentiment(polarity=0.0, subjectivity=0.0)\n"
     ]
    }
   ],
   "source": [
    "sentiment_3 = TextBlob(\"I am getting an divorce\")\n",
    "print(format(sentiment_3.sentiment))"
   ]
  },
  {
   "cell_type": "markdown",
   "metadata": {},
   "source": [
    "# Using Twitter API and TextBlob library to analyse the polarity, as well as the subjectivity of a tweet on the specified subject or topic:"
   ]
  },
  {
   "cell_type": "code",
   "execution_count": 6,
   "metadata": {},
   "outputs": [],
   "source": [
    "# importing the Twitter library\n",
    "\n",
    "import tweepy\n"
   ]
  },
  {
   "cell_type": "code",
   "execution_count": 7,
   "metadata": {},
   "outputs": [],
   "source": [
    "# Setting the credentials to twitter API:\n",
    "# Register on twitter to get your own Key:\n",
    "\n",
    "consumer_key = 'nkoshvklsnsnvls654v6s4vi'\n",
    "consumer_secret = 'nosgoisgosopj46s1567fbskio;mj4ururgfo4r5656sopjso'\n",
    "\n",
    "access_token = '4556474664+516+41048894-Url0Vwgwhiouuwgnogjoijiojyeofojegee'\n",
    "access_token_secret = '749evhjmojvhevmjioe5ujdfvmioik09erk56166464 iohjiojthiujhojhj+654'"
   ]
  },
  {
   "cell_type": "code",
   "execution_count": 8,
   "metadata": {},
   "outputs": [],
   "source": [
    "# Authorising the API to acces the credentials and the Platform:\n",
    "\n",
    "auth = tweepy.OAuthHandler(consumer_key, consumer_secret)\n",
    "auth.set_access_token(access_token, access_token_secret)"
   ]
  },
  {
   "cell_type": "markdown",
   "metadata": {},
   "source": [
    "A) Polarity = Defines the positivity or negativity of the text; it returns a float\n",
    "value in the range of \"-1.0 to 1.0\", where 0.0 indicates neutral, \n",
    "+1 indicates a very positive sentiment and -1 represents a very negative sentiment.\n",
    "\n",
    "\n",
    "B) Subjectivity: Defines the text on the basis that how much of it is an opinion vs how factual it is.\n",
    "where 0.0 is very objective and 1.0 is very subjective."
   ]
  },
  {
   "cell_type": "code",
   "execution_count": 9,
   "metadata": {},
   "outputs": [
    {
     "name": "stdout",
     "output_type": "stream",
     "text": [
      "RT @kayleighmcenany: Lenny voted for ⁦@realDonaldTrump⁩ in 2016 and will be voting for him again in 2020‼️\n",
      "\n",
      "Another great supporter of @POT…\n",
      "Sentiment(polarity=0.8, subjectivity=0.75)\n",
      "RT @washingtonpost: Stacey Abrams to launch voter protection program in battleground states ahead of the 2020 election https://t.co/CDse7CH…\n",
      "Sentiment(polarity=0.0, subjectivity=0.0)\n",
      "Saw a twitter bio that says “intersectional feminist” but also “Harris 2020” how tf to is that possible?\n",
      "Sentiment(polarity=0.0, subjectivity=1.0)\n",
      "RT @TeamTrump: Ahead of his trip to Pennsylvania, @realDonaldTrump has achieved energy dominance in America!\n",
      "\n",
      "Meanwhile, 2020 Democrats con…\n",
      "Sentiment(polarity=0.0, subjectivity=0.0)\n",
      "None of these stunts the 2020 Dems are doing are helping them. If anything, they are helping Trump more.  #TheFive\n",
      "Sentiment(polarity=0.5, subjectivity=0.5)\n",
      "RT @iamkearaa: 3 years ago today , class of 2020 was at olive branch\n",
      "Sentiment(polarity=0.5, subjectivity=1.0)\n",
      "RT @TrumpWarRoom: President Trump: \"Some politicians...see factories like this one not as a cause for celebration but condemnation.\"\n",
      "\n",
      "The 2…\n",
      "Sentiment(polarity=0.0, subjectivity=0.0)\n",
      "RT @cleopr2020: We have confirmed 6 amazing keynote speakers for the CLEO Pacific Rim 2020 Conference, to be held in Sydney 2-6 August 2020…\n",
      "Sentiment(polarity=0.5, subjectivity=0.95)\n",
      "RT @MilanClubPhilly: 2019-2020 SEASON OPENER!\n",
      "Join @milanclubphilly at @GCaffeLaquila for #UdineseMilan - Sunday, August 25th. \n",
      "Like, share…\n",
      "Sentiment(polarity=0.0, subjectivity=0.0)\n",
      "Press Release - Longoria Announces 2020 Re-Election Bid In Texas House District 35 🗳️ - https://t.co/rlsk9lHoaL https://t.co/huvU7frk45\n",
      "Sentiment(polarity=0.0, subjectivity=0.0)\n",
      "RT @Trumpet1984: THREAD – REMOVAL OF MITCH MCCONNELL IN 2020 STARTS WITH ELECTIONS IN 2019\n",
      "\n",
      "Please RT and donate. I will donate $1 for each…\n",
      "Sentiment(polarity=0.0, subjectivity=0.0)\n",
      "@cpeterson6974 @mykele78 @Kathlee71013772 @fanofsport4u @Alyssa_Milano 3) Once elected, the Russian interference co… https://t.co/IOTg41jzrL\n",
      "Sentiment(polarity=0.0, subjectivity=0.0)\n",
      "RT @NhsPta: 2019-2020 Reflections Arts Program | National PTA\n",
      "NHS Students! The Reflections theme is \"Look Within\".  How will you express y…\n",
      "Sentiment(polarity=0.0, subjectivity=0.0)\n",
      "RT @_0biorah: Retweet if you are graduating in 2020!!!! https://t.co/29oiJbLDjt\n",
      "Sentiment(polarity=0.0, subjectivity=0.0)\n",
      "RT @SunaVarol_: 2020 liraya asgari ücretle bile iş bulamayan 2 üniversite mezunları değil; Hiç bir vasfı olmadığı halde \"akraba durumundan\"…\n",
      "Sentiment(polarity=0.0, subjectivity=0.0)\n"
     ]
    }
   ],
   "source": [
    "api = tweepy.API(auth)\n",
    "\n",
    "public_tweets = api.search('2020')\n",
    "\n",
    "for tweet in public_tweets:\n",
    "    print(tweet.text)\n",
    "    analysis = TextBlob(tweet.text)\n",
    "    print(analysis.sentiment)"
   ]
  },
  {
   "cell_type": "code",
   "execution_count": 10,
   "metadata": {},
   "outputs": [
    {
     "name": "stdout",
     "output_type": "stream",
     "text": [
      "@majorgauravarya @OfficialDGISPR Nation that is continously lying about kashmir issue and denying all the facts and… https://t.co/WO1Suwr8QX\n",
      "Sentiment(polarity=0.0, subjectivity=0.0)\n",
      "RT @newslaundry: The taxi stands in Srinagar have suffered heavy losses since August 4—a day before the Indian govt. scrapped #Article370 a…\n",
      "Sentiment(polarity=-0.2, subjectivity=0.5)\n",
      "RT @RT_com: Both #Pakistan and #Kashmir belong to #India - @Imamofpeace \n",
      "\n",
      "https://t.co/0PFpulibBu \n",
      "\n",
      "VIDEO: Curfew in #Kashmir - Armed polic…\n",
      "Sentiment(polarity=0.0, subjectivity=0.0)\n",
      "RT @KhanAmerKhan: A volcano is about to erupt and will consequently destory the reginal peace if UN fails to stop India's bloodthirstiness…\n",
      "Sentiment(polarity=-0.5, subjectivity=0.3)\n",
      "Kashmir is us &amp; we are Pakistan\n",
      "Happy 72nd Independence Day dear Pakistan\n",
      "#LongLivePakistan 🇵🇰 https://t.co/VQNgxYP9v1\n",
      "Sentiment(polarity=0.8, subjectivity=1.0)\n",
      "Kashmir Banega Pakistan...Jashn e azadi mubarak🇵🇰\n",
      "Sentiment(polarity=0.0, subjectivity=0.0)\n",
      "RT @gsurya: Hain? Just like #Kayarkar this BJP stooge extended the #Kashmir invitation and is now running away https://t.co/zxbb1iRNOV\n",
      "Sentiment(polarity=0.0, subjectivity=0.0)\n",
      "RT @pid_gov: Pakistan stands with the people of Indian occupied Jammu &amp; Kashmir and exhibits its complete support for their human, civil an…\n",
      "Sentiment(polarity=0.05, subjectivity=0.25)\n",
      "RT @HaidarBhaiJaano: Lala raises both the flags on the #IndependenceDay, #Pakistan &amp; #Kashmir. @SAfridiOfficial @FKdotPK\n",
      "\n",
      "#RedForKashmir\n",
      "#S…\n",
      "Sentiment(polarity=0.0, subjectivity=0.0)\n",
      "RT @suhasinih: 'Modi' s Vivendi' on Kashmir may have been triggered by US's Af-Pak deal, but it derives  from prevailing global trends on u…\n",
      "Sentiment(polarity=0.0, subjectivity=0.0)\n",
      "RT @politicalpips: @RanaAyyub You are back to India  from USA or still enjoying 5 star treatment while writing anti India content and worry…\n",
      "Sentiment(polarity=0.25, subjectivity=0.3)\n",
      "RT @geertwilderspvv: I support my friends in #India about #Kashmir and their decision to revoke #Art370. \n",
      "\n",
      "No more state terrorism from #Pa…\n",
      "Sentiment(polarity=-0.25, subjectivity=0.5)\n",
      "RT @MirzaWaheed: 2019. Kashmir is now officially The Country Without a Post Office. I’m so very sorry, Shahid. https://t.co/TdEjs5lvFU http…\n",
      "Sentiment(polarity=-0.65, subjectivity=1.0)\n"
     ]
    }
   ],
   "source": [
    "public_tweets = api.search('kashmir')\n",
    "\n",
    "for tweet in public_tweets:\n",
    "    print(tweet.text)\n",
    "    analysis = TextBlob(tweet.text)\n",
    "    print(analysis.sentiment)"
   ]
  }
 ],
 "metadata": {
  "kernelspec": {
   "display_name": "Python 3",
   "language": "python",
   "name": "python3"
  },
  "language_info": {
   "codemirror_mode": {
    "name": "ipython",
    "version": 3
   },
   "file_extension": ".py",
   "mimetype": "text/x-python",
   "name": "python",
   "nbconvert_exporter": "python",
   "pygments_lexer": "ipython3",
   "version": "3.7.3"
  }
 },
 "nbformat": 4,
 "nbformat_minor": 2
}
