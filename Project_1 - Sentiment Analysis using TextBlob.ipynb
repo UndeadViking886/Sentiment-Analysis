{
 "cells": [
  {
   "cell_type": "markdown",
   "metadata": {},
   "source": [
    "# Using Twitter API and TextBlob library to analyse the polarity, as well as the subjectivity of a tweet on the specified subject or topic:"
   ]
  },
  {
   "cell_type": "code",
   "execution_count": 1,
   "metadata": {},
   "outputs": [],
   "source": [
    "# importing the Twitter library\n",
    "import tweepy\n",
    "# importing the NLP(Natural Language Processing) library\n",
    "from textblob import TextBlob "
   ]
  },
  {
   "cell_type": "code",
   "execution_count": 2,
   "metadata": {},
   "outputs": [],
   "source": [
    "# Setting the credentials to twitter API:\n",
    "# Register on twitter to get your own Key:\n",
    "\n",
    "consumer_key = 'X'\n",
    "consumer_secret = 'Y'\n",
    "\n",
    "access_token = 'Z'\n",
    "access_token_secret = 'L'"
   ]
  },
  {
   "cell_type": "code",
   "execution_count": 3,
   "metadata": {},
   "outputs": [],
   "source": [
    "# Authorising the API to acces the credentials and the Platform:\n",
    "\n",
    "auth = tweepy.OAuthHandler(consumer_key, consumer_secret)\n",
    "auth.set_access_token(access_token, access_token_secret)"
   ]
  },
  {
   "cell_type": "markdown",
   "metadata": {},
   "source": [
    "A) Polarity = Defines the positivity or negativity of the text;\n",
    "\n",
    "\n",
    "B) Subjectivity: Defines the text on the basis that how much of it is an opinion vs how factual it is."
   ]
  },
  {
   "cell_type": "code",
   "execution_count": 4,
   "metadata": {
    "scrolled": true
   },
   "outputs": [
    {
     "name": "stdout",
     "output_type": "stream",
     "text": [
      "@KOPSSAN @AhmedSkylight @ZR_TLC هذا من زمان محدد في ٢٠٢٠ و احس خلاص من تصريحات ماساوا و التيزر مطمن من مستواه\n",
      "بنشوف… https://t.co/pDpZMMkZZH\n",
      "Sentiment(polarity=0.0, subjectivity=0.0)\n",
      "@KeysBabyBaby @KellyDetoni think the American people believe all that sick minded yapping # Your Awakening is coming in 2020 MAGA Trump 2020\n",
      "Sentiment(polarity=-0.35714285714285715, subjectivity=0.42857142857142855)\n",
      "RT @JesseF5A: 🚨Illegal Immigration🚨\n",
      "◼️Cause:  Democrats\n",
      "◼️Solution: We the People\n",
      "The only way we are going to stop Illegal Immigration is…\n",
      "Sentiment(polarity=-0.25, subjectivity=0.75)\n",
      "RT @wsh_ot: Exciting times ahead with OT degree apprenticeships starting February 2020 with @uniofeastanglia @JaneHibberd20 Looking forward…\n",
      "Sentiment(polarity=0.15, subjectivity=0.45)\n",
      "RT @RonWyden: We are 448 days away from the 2020 election and Mitch McConnell has yet to take any concrete steps to protect our federal ele…\n",
      "Sentiment(polarity=0.15000000000000002, subjectivity=0.30000000000000004)\n",
      "RT @wtp__2020: Which GOP Senator MUST be voted out in 2020?\n",
      "Sentiment(polarity=0.0, subjectivity=0.0)\n",
      "RT @CNNPolitics: Joe Biden says if elected in 2020 he will push to ban assault weapons https://t.co/y7EIRsCYwd https://t.co/wcF4bhHGlo\n",
      "Sentiment(polarity=0.0, subjectivity=0.0)\n",
      "Coachella 2020\n",
      "Sentiment(polarity=0.0, subjectivity=0.0)\n",
      "@AlbertoRavell Lograron neutralizar a Bin laden y les ha costado bregar con Nicolas MAduro, ¿quien falla en esto? ¿… https://t.co/aJKMFkEM1e\n",
      "Sentiment(polarity=0.0, subjectivity=0.0)\n",
      "RT @TrumpWarRoom: President Trump: \"Some politicians...see factories like this one not as a cause for celebration but condemnation.\"\n",
      "\n",
      "The 2…\n",
      "Sentiment(polarity=0.0, subjectivity=0.0)\n",
      "RT @TeamTrump: Ahead of his trip to Pennsylvania, @realDonaldTrump has achieved energy dominance in America!\n",
      "\n",
      "Meanwhile, 2020 Democrats con…\n",
      "Sentiment(polarity=0.0, subjectivity=0.0)\n",
      "This from CNN!!!\n",
      "#Bernie2020\n",
      " Does @CillizzaCNN #FeelTheBern?\n",
      "\n",
      "https://t.co/yZHgmIM8n8\n",
      "Sentiment(polarity=0.0, subjectivity=0.0)\n",
      "RT @thro_e: No one is fooled. Remember November 2020!\n",
      "\n",
      "A HUGE tax increase for the MIDDLE CLASS would be required to implement a program th…\n",
      "Sentiment(polarity=0.20000000000000004, subjectivity=0.45)\n",
      "RT @ayiuayiu: 『「大和って空母より安く作れっから、日本の凄さを見せつけるために空母なんかやめてこっち作ろうぜ」という偉い人の見積もりの嘘を暴き、本当の予算を算出して建造を阻止するために奔走する』という映画の監督が東京五輪2020のエグゼクティブ・クリエイティブ・デ…\n",
      "Sentiment(polarity=0.0, subjectivity=0.0)\n"
     ]
    }
   ],
   "source": [
    "api = tweepy.API(auth)\n",
    "\n",
    "public_tweets = api.search('2020')\n",
    "\n",
    "for tweet in public_tweets:\n",
    "    print(tweet.text)\n",
    "    analysis = TextBlob(tweet.text)\n",
    "    print(analysis.sentiment)"
   ]
  },
  {
   "cell_type": "code",
   "execution_count": 5,
   "metadata": {},
   "outputs": [
    {
     "name": "stdout",
     "output_type": "stream",
     "text": [
      "RT @Manoj_IYC: `நீட், நெக்ஸ்ட், இலங்கை பிரச்னைகளிலும் ரஜினி கருத்து தெரிவிக்க வேண்டும்!' - கார்த்தி ப சிதம்பரம் @KartiPC\n",
      " https://t.co/Jr6U…\n",
      "Sentiment(polarity=0.0, subjectivity=0.0)\n",
      "RT @DevjyotGhoshal: Today is/was the ninth day that Kashmir is locked down, under an information blackout. \n",
      "\n",
      "The next few days at critical,…\n",
      "Sentiment(polarity=-0.11851851851851854, subjectivity=0.12962962962962965)\n",
      "RT @GovindNamo: Dear Indians\n",
      "\n",
      "PAK will celebrate August 14th as Solidarity day for Kashmir\n",
      "\n",
      "I request all to tag #BalochistanSolidarityDay…\n",
      "Sentiment(polarity=0.0, subjectivity=0.0)\n",
      "RT @cjwerleman: Dear @htTweets,\n",
      "\n",
      "This fraud is not an \"Islamic scholar.\" \n",
      "\n",
      "He's not even recognized as an Imam, and even lied about complet…\n",
      "Sentiment(polarity=0.0, subjectivity=0.0)\n",
      "RT @imAviator: Heavy rain in Azad kashmir ♥️💚🖤\n",
      "#Kashmirweather\n",
      "Sentiment(polarity=-0.2, subjectivity=0.5)\n",
      "@CNNnews18 @MonaAlamm @gauravbh @bhupendrachaube #indiaunderpressure #FreeKashmir #KashmirWantsFreedom… https://t.co/wXouHZSFsP\n",
      "Sentiment(polarity=0.0, subjectivity=0.0)\n",
      "RT @Cold_Peace_: Total nonsense. There's not a single serious person, including in Pakistan, that thinks India is planning a move on the Lo…\n",
      "Sentiment(polarity=-0.0992063492063492, subjectivity=0.5436507936507936)\n",
      "RT @AQUIBMIR7: Kashmiri girls in Kupwara of North Kashmir today during the full dress rehearsal of the Independence Day function. The trico…\n",
      "Sentiment(polarity=0.35, subjectivity=0.55)\n",
      "RT @RaheeqAbbasi: امریکہ کے اخبار نیو یارک ٹائمز کے مطابق کشمیر جنت نظیر کو بھارت نے جہنم بنا دیا یے \n",
      "https://t.co/2lXyIUBpmU https://t.co/…\n",
      "Sentiment(polarity=0.0, subjectivity=0.0)\n",
      "RT @ashoswai: Amit Shah lied in the Parliament - Sardar Patel was in favor of #Article370 as much as Nehru was! #Kashmir https://t.co/nu8CG…\n",
      "Sentiment(polarity=0.25, subjectivity=0.2)\n",
      "RT @MushaalMullick: We Kashmiris are thankful to Pakistani nation for dedicating the independence day 14th August to the #Kashmir freedom s…\n",
      "Sentiment(polarity=0.0, subjectivity=0.0)\n",
      "RT @DevjyotGhoshal: #Thread \n",
      "\n",
      "I wasn't inclined to tweet about #Kashmir, but after seeing the amount of disinformation, I am going to.\n",
      "\n",
      "I'm…\n",
      "Sentiment(polarity=0.0, subjectivity=0.0)\n",
      "RT @pid_gov: Pakistan stands with the people of Indian occupied Jammu &amp; Kashmir and exhibits its complete support for their human, civil an…\n",
      "Sentiment(polarity=0.05, subjectivity=0.25)\n",
      "RT @ammarmasood3: کشمیر کا پاکستان بنانے کا خواب دیکھتے دیکھتے ہم پاکستان کو کشمیر بنا بیٹھے \n",
      "\n",
      "#kashmir\n",
      "Sentiment(polarity=0.0, subjectivity=0.0)\n",
      "RT @InsafPK: Spare yourselves the futile exercise. Balochistan has total autonomy through its elected provincial govt, political representa…\n",
      "Sentiment(polarity=0.0, subjectivity=0.425)\n"
     ]
    }
   ],
   "source": [
    "public_tweets = api.search('kashmir')\n",
    "\n",
    "for tweet in public_tweets:\n",
    "    print(tweet.text)\n",
    "    analysis = TextBlob(tweet.text)\n",
    "    print(analysis.sentiment)"
   ]
  },
  {
   "cell_type": "code",
   "execution_count": null,
   "metadata": {},
   "outputs": [],
   "source": []
  }
 ],
 "metadata": {
  "kernelspec": {
   "display_name": "Python 3",
   "language": "python",
   "name": "python3"
  },
  "language_info": {
   "codemirror_mode": {
    "name": "ipython",
    "version": 3
   },
   "file_extension": ".py",
   "mimetype": "text/x-python",
   "name": "python",
   "nbconvert_exporter": "python",
   "pygments_lexer": "ipython3",
   "version": "3.7.3"
  }
 },
 "nbformat": 4,
 "nbformat_minor": 2
}
