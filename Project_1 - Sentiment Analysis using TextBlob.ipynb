{
 "cells": [
  {
   "cell_type": "code",
   "execution_count": 1,
   "metadata": {},
   "outputs": [],
   "source": [
    "# importing the Twitter library\n",
    "import tweepy\n",
    "# importing the NLP(Natural Language Processing) library\n",
    "from textblob import TextBlob "
   ]
  },
  {
   "cell_type": "markdown",
   "metadata": {},
   "source": [
    "Using Twitter API and TextBlob library to analyse the polarity, as well as the subjectivity of a tweet on the specified subject or topic:"
   ]
  },
  {
   "cell_type": "code",
   "execution_count": 2,
   "metadata": {},
   "outputs": [],
   "source": [
    "# Setting the credentials to twitter API:\n",
    "# Register on twitter to get your own Key:\n",
    "\n",
    "consumer_key = 'sIZdBVVCIfsdgdgdyTci7Zi'\n",
    "consumer_secret = 'dsUyjm690fjdfdffjkfkfkydgk3N3jUv'\n",
    "\n",
    "access_token = 'jffjj2433539126528-Url0VGcjfgfkjaEhlhjnQ'\n",
    "access_token_secret = '24vcthub67iiOeoRFVBVRoetnbtinfgnnhng'\n",
    "\n"
   ]
  },
  {
   "cell_type": "code",
   "execution_count": 3,
   "metadata": {},
   "outputs": [],
   "source": [
    "# Authorising the API to acces the credentials and the Platform:\n",
    "\n",
    "auth = tweepy.OAuthHandler(consumer_key, consumer_secret)\n",
    "auth.set_access_token(access_token, access_token_secret)"
   ]
  },
  {
   "cell_type": "markdown",
   "metadata": {},
   "source": [
    "A) Polarity = Defines the positivity or negativity of the text;\n",
    "\n",
    "\n",
    "B) Subjectivity: Defines the text on the basis that how much of it is an opinion vs how factual it is."
   ]
  },
  {
   "cell_type": "code",
   "execution_count": 4,
   "metadata": {
    "scrolled": true
   },
   "outputs": [
    {
     "name": "stdout",
     "output_type": "stream",
     "text": [
      "RT @naoqueroleristo: Os japoneses estão a desenhar em versão anime cada país para as olimpíadas de 2020.\n",
      "Aqui está Portugal https://t.co/Qy…\n",
      "Sentiment(polarity=0.0, subjectivity=0.0)\n",
      "RT @GOP: 2020 Dems continue to spew socialist policies—but a new American Action Network survey shows that when voters are informed of the…\n",
      "Sentiment(polarity=0.07878787878787878, subjectivity=0.18484848484848485)\n",
      "HALF-TIME: @FWPStevenage 1-0 @FWPSouthend https://t.co/aX6fm6ebcT https://t.co/xcX5mg9glI\n",
      "Sentiment(polarity=0.0, subjectivity=0.0)\n",
      "RT @Trumpet1984: THREAD – REMOVAL OF MITCH MCCONNELL IN 2020 STARTS WITH ELECTIONS IN 2019\n",
      "\n",
      "Please RT and donate. I will donate $1 for each…\n",
      "Sentiment(polarity=0.0, subjectivity=0.0)\n",
      "RT @AbdulElSayed: My main litmus test for 2020 Presidential Candidates:\n",
      "\n",
      "Show me that you've risked something to stand up to power.\n",
      "Sentiment(polarity=0.16666666666666666, subjectivity=0.3333333333333333)\n",
      "RT @GOP: 2020 Dems continue to spew socialist policies—but a new American Action Network survey shows that when voters are informed of the…\n",
      "Sentiment(polarity=0.07878787878787878, subjectivity=0.18484848484848485)\n",
      "RT @HHShkMohd: 450 days remaining for Expo 2020 Dubai, with 190 countries leading the world towards a better future through their pavilions…\n",
      "Sentiment(polarity=0.25, subjectivity=0.3125)\n",
      "Coldzera puto = Top 1 2020\n",
      "Sentiment(polarity=0.5, subjectivity=0.5)\n",
      "RT @tombenning: .@JulianCastro rips @realDonaldTrump in TV ad that will air on Fox News in market where president is vacationing https://t.…\n",
      "Sentiment(polarity=0.0, subjectivity=0.0)\n",
      "RT @FerReyMusical: [ TEATRO 2020 ]\n",
      "\n",
      "@FernandoDente será Charlie Price en @kinkyargentina con @Martinbossi como Simón / Lola \n",
      "\n",
      "Dirección : @…\n",
      "Sentiment(polarity=-0.75, subjectivity=1.0)\n",
      "IM BACK WITH SOME EDELWEISS UPDATES:\n",
      "\n",
      "🐳QUEEN OF THE CONQUERED by @kacencallender is available for Request (out Nov.… https://t.co/AW9A41QQ1C\n",
      "Sentiment(polarity=0.2, subjectivity=0.2)\n",
      "4th Graders busy at work collaborating their 2019-2020 Grade Level Contracts.  @HumbleISD_OE @KrystalPrice200… https://t.co/MJ5jKWWBFB\n",
      "Sentiment(polarity=0.1, subjectivity=0.3)\n",
      "RT @ImpulsoRD_: El @PLDenlinea ya decidió que @Demostenesm será el Presidente. de la Camara de @DiputadosRD 2019-2020. .#CumplirAcuerdoEsCo…\n",
      "Sentiment(polarity=0.0, subjectivity=0.0)\n",
      "RT @Sportchanges: 🚨🚨WELCOME OUR CLASS OF 2020 VICTORY SCHOLARS!🚨🚨\n",
      "\n",
      "We’re beyond excited to introduce our new Victory Scholars! They will be…\n",
      "Sentiment(polarity=0.2727272727272727, subjectivity=0.6022727272727273)\n",
      "RT @Newsweek: Stacey Abrams is launching a new anti-voter suppression effort in key swing states ahead of the 2020 election https://t.co/5H…\n",
      "Sentiment(polarity=0.06818181818181818, subjectivity=0.7272727272727273)\n"
     ]
    }
   ],
   "source": [
    "api = tweepy.API(auth)\n",
    "\n",
    "public_tweets = api.search('2020')\n",
    "\n",
    "for tweet in public_tweets:\n",
    "    print(tweet.text)\n",
    "    analysis = TextBlob(tweet.text)\n",
    "    print(analysis.sentiment)"
   ]
  },
  {
   "cell_type": "code",
   "execution_count": 5,
   "metadata": {},
   "outputs": [
    {
     "name": "stdout",
     "output_type": "stream",
     "text": [
      "@Shehla_Rashid ISIS member , IsIs men are waiting for you ! They need you ,go and plz help them , plz take support… https://t.co/dBvPUW4kez\n",
      "Sentiment(polarity=0.0, subjectivity=0.0)\n",
      "RT @khalistaanmust: #WeAreAsifGhafoor\n",
      "people of Pakistan backing their army with huge passion.\n",
      "No army have power to fight with pak army.\n",
      "o…\n",
      "Sentiment(polarity=0.4000000000000001, subjectivity=0.9)\n",
      "RT @DrGPradhan: My request to @PMOIndia is to demand raw footage of Kashmir violence as claimed by @BBCIndia and @AlJazeera and get it audi…\n",
      "Sentiment(polarity=-0.23076923076923078, subjectivity=0.46153846153846156)\n",
      "RT @BaaghiTV: بھارتی جارحیت کے خلاف عمران خان نے کشمیر جانے کا فیصلہ کر لیا\n",
      "\n",
      " @ImranKhanPTI #Kashmir #PakIndependenceWithKashmir\n",
      "#Independe…\n",
      "Sentiment(polarity=0.0, subjectivity=0.0)\n",
      "شکریہ  #ARYNews \n",
      "آج اپنے کشمیریوں کے دل جیت لئے۔ یوم پاکستان کے موقع پہ کشمیر کو یاد رکھنے پہ شکریہ۔\n",
      "نبیل احمد کشمی… https://t.co/dllLd93isN\n",
      "Sentiment(polarity=0.0, subjectivity=0.0)\n",
      "RT @CongressDahan: A REQUEST :\n",
      "Support freedom for Balochistan in massive way on the 14th August and SLAP PAKISTAN'S declared 'solidarity d…\n",
      "Sentiment(polarity=0.0, subjectivity=1.0)\n",
      "RT @AamnaFasihi: @kakar_harsha You don’t have to trend that hashtag. Balochistan has internet to voice their concerns (if any) themselves.…\n",
      "Sentiment(polarity=0.0, subjectivity=0.0)\n",
      "RT @INCTelangana: Important that armed forces in kashmir and people of kashmir have access to medicine &amp; healthcare in this hour of need.…\n",
      "Sentiment(polarity=0.4, subjectivity=1.0)\n",
      "We contacted the BBC spokesperson in Delhi regarding the authenticity of the video. The BBC said they stand by ever… https://t.co/Tl7Mt6GOM5\n",
      "Sentiment(polarity=0.0, subjectivity=0.0)\n",
      "@AJEnglish @_ayeshamalik_ it takes a lot of guts to bring out the truth amidst such bias and hostility. Kudos to yo… https://t.co/en7puWSKkY\n",
      "Sentiment(polarity=0.0, subjectivity=0.5)\n",
      "RT @fawadchaudhry: Capt. Amarinder Singh G you are a good man and I know your heart is not with Modi Sarkar actions, injustice anywhere is…\n",
      "Sentiment(polarity=0.7, subjectivity=0.6000000000000001)\n",
      "RT @MalickViews: Saudi Aramco buys 20% stake in india reliance industries for $75b. And we expect Saudi Arabia to side with Pakistan on Kas…\n",
      "Sentiment(polarity=0.0, subjectivity=0.0)\n"
     ]
    }
   ],
   "source": [
    "public_tweets = api.search('kashmir')\n",
    "\n",
    "for tweet in public_tweets:\n",
    "    print(tweet.text)\n",
    "    analysis = TextBlob(tweet.text)\n",
    "    print(analysis.sentiment)"
   ]
  },
  {
   "cell_type": "code",
   "execution_count": null,
   "metadata": {},
   "outputs": [],
   "source": []
  }
 ],
 "metadata": {
  "kernelspec": {
   "display_name": "Python 3",
   "language": "python",
   "name": "python3"
  },
  "language_info": {
   "codemirror_mode": {
    "name": "ipython",
    "version": 3
   },
   "file_extension": ".py",
   "mimetype": "text/x-python",
   "name": "python",
   "nbconvert_exporter": "python",
   "pygments_lexer": "ipython3",
   "version": "3.7.3"
  }
 },
 "nbformat": 4,
 "nbformat_minor": 2
}
